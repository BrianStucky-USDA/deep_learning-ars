{
 "cells": [
  {
   "cell_type": "markdown",
   "metadata": {},
   "source": [
    "![Practicum AI Logo image](images/practicum_ai_logo.png)\n",
    "***\n",
    "This exercise adapted from Baig et al. (2020) <i>The Deep Learning Workshop</i> from <a href=\"https://www.packtpub.com/product/the-deep-learning-workshop/9781839219856\">Packt Publishers</a>.\n",
    "\n",
    "#### Exercise 1.03 (Student) - page 27\n"
   ]
  },
  {
   "cell_type": "markdown",
   "metadata": {},
   "source": [
    "Before you begin working on this exercise, please watch Andrew Ng's matrix-vector multiplication video.\n",
    "\n",
    "If the video is not displaying below, click [here](https://mediasite.video.ufl.edu/Mediasite/Play/72674dc85a2a4f0bba71b195a527a7f71d) to login to MediaSite."
   ]
  },
  {
   "cell_type": "code",
   "execution_count": 2,
   "metadata": {
    "jupyter": {
     "source_hidden": true
    },
    "tags": []
   },
   "outputs": [
    {
     "data": {
      "text/html": [
       "<iframe src=\"https://mediasite.video.ufl.edu/Mediasite/Play/72674dc85a2a4f0bba71b195a527a7f71d\" width=\"400\" height=\"250\" style=\"overflow: hidden;\"></iframe>\n"
      ],
      "text/plain": [
       "<IPython.core.display.HTML object>"
      ]
     },
     "metadata": {},
     "output_type": "display_data"
    }
   ],
   "source": [
    "%%html\n",
    "<iframe src=\"https://mediasite.video.ufl.edu/Mediasite/Play/72674dc85a2a4f0bba71b195a527a7f71d\" width=\"400\" height=\"250\" style=\"overflow: hidden;\"></iframe>"
   ]
  }
 ],
 "metadata": {
  "kernelspec": {
   "display_name": "Python 3 (ipykernel)",
   "language": "python",
   "name": "python3"
  },
  "language_info": {
   "codemirror_mode": {
    "name": "ipython",
    "version": 3
   },
   "file_extension": ".py",
   "mimetype": "text/x-python",
   "name": "python",
   "nbconvert_exporter": "python",
   "pygments_lexer": "ipython3",
   "version": "3.8.1"
  }
 },
 "nbformat": 4,
 "nbformat_minor": 4
}
